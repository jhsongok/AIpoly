{
 "cells": [
  {
   "cell_type": "markdown",
   "metadata": {},
   "source": [
    "#### lambda 함수\n",
    " + 단일문으로 표현되는 익명(anonimous)함수\n",
    " + 익명함수란 함수 이름이 없고 구현체만 존재하는 간단한 함수를 의미\n",
    " + 굳이 함수로 만들지 않고 1회성으로 만들어서 쓸 때 사용.\n",
    " + 파이썬 코드를 간결하게 하기 위해 사용됨.\n",
    " + lambda 입력값:리턴값 형식으로 사용"
   ]
  },
  {
   "cell_type": "code",
   "execution_count": 15,
   "metadata": {},
   "outputs": [
    {
     "data": {
      "text/plain": [
       "9"
      ]
     },
     "execution_count": 15,
     "metadata": {},
     "output_type": "execute_result"
    }
   ],
   "source": [
    "def square2(x):\n",
    "    return x**2\n",
    "square(3)"
   ]
  },
  {
   "cell_type": "code",
   "execution_count": 16,
   "metadata": {},
   "outputs": [
    {
     "data": {
      "text/plain": [
       "9"
      ]
     },
     "execution_count": 16,
     "metadata": {},
     "output_type": "execute_result"
    }
   ],
   "source": [
    "square = lambda x:x**2  # lambda 입력값:리턴값\n",
    "type(square)  # square의 타입은 함수\n",
    "square(3)"
   ]
  },
  {
   "cell_type": "code",
   "execution_count": 17,
   "metadata": {},
   "outputs": [
    {
     "data": {
      "text/plain": [
       "30"
      ]
     },
     "execution_count": 17,
     "metadata": {},
     "output_type": "execute_result"
    }
   ],
   "source": [
    "def add(x, y):\n",
    "    return x + y\n",
    "\n",
    "add2 = lambda x,y:x+y \n",
    "add2(10, 20)"
   ]
  },
  {
   "cell_type": "code",
   "execution_count": 18,
   "metadata": {},
   "outputs": [
    {
     "data": {
      "text/plain": [
       "4"
      ]
     },
     "execution_count": 18,
     "metadata": {},
     "output_type": "execute_result"
    }
   ],
   "source": [
    "def str_len(s):\n",
    "    return len(s)\n",
    "\n",
    "str_len('test')"
   ]
  },
  {
   "cell_type": "code",
   "execution_count": 20,
   "metadata": {},
   "outputs": [
    {
     "name": "stdout",
     "output_type": "stream",
     "text": [
      "['alexander3', 'bob', 'charles', 'teddy']\n"
     ]
    }
   ],
   "source": [
    "# 한줄짜리 함수(lambda 함수)를 굳이 사용해야 하는가? 굳이 사용하지 않아도 됩니다.\n",
    "# lamda 함수는 파이썬의 코드를 좀 더 간결하게 하기 위해서 사용됩니다.\n",
    "# 그럼 어디에 이러한 lambda 함수가 사용될까?\n",
    "\n",
    "strings = ['bob', 'charles', 'alexander3', 'teddy']\n",
    "strings.sort()  # sort 함수를 통해 알파벳 순으로 정렬을 하였음\n",
    "\n",
    "print(strings)"
   ]
  },
  {
   "cell_type": "code",
   "execution_count": 21,
   "metadata": {},
   "outputs": [
    {
     "name": "stdout",
     "output_type": "stream",
     "text": [
      "['bob', 'teddy', 'charles', 'alexander3']\n"
     ]
    }
   ],
   "source": [
    "strings = ['bob', 'charles', 'alexander3', 'teddy']\n",
    "strings.sort(key=str_len)  # sort 함수의 key 파라미터에는 함수를 전달해야 한다. 따라서 문자열 길이를 계산하는 함수를 전달해 준다.\n",
    "                           # 따라서 문자열 길이가 적는 순으로 정렬된다. \n",
    "print(strings)\n",
    "\n",
    "# 위의 사례 처럼, str_len 함수는 다른데서는 거의 사용하지 않음으로 코드 낭비. \n",
    "# sort 함수의 key 값으로 함수를 입력하기 위해서만 사용된다면 lambda 함수를 사용하는 것이 코드 낭비를 줄일 수 있으며\n",
    "# 좀 더 파이썬 스럽게 작성된 코드라 할 수 있습니다."
   ]
  },
  {
   "cell_type": "code",
   "execution_count": 22,
   "metadata": {},
   "outputs": [
    {
     "name": "stdout",
     "output_type": "stream",
     "text": [
      "['bob', 'teddy', 'charles', 'alexander3']\n"
     ]
    }
   ],
   "source": [
    "# lambda 함수는 아래와 같은 예로 주로 사용된다\n",
    "\n",
    "strings = ['bob', 'charles', 'alexander3', 'teddy']\n",
    "strings.sort(key=lambda s:len(s))  # str_len 대신 lambda 함수를 사용한 예\n",
    "\n",
    "print(strings)"
   ]
  },
  {
   "cell_type": "markdown",
   "metadata": {},
   "source": [
    "#### lambda와 함께 유용하게 사용되는 함수들(filter, map, reduce)\n",
    " + filter : 리스트에서 특정 조건을 만족하는 원소만 남기고 필터링\n",
    " + map    : 각 원소를 주어진 수식에 따라 변형하여 새로운 리스트를 반환\n",
    " + reduce : 차례대로 앞 2개의 원소를 가지고 주어진 수식에 따라 연산. 연산의 결과가 또 다음 연산의 입력으로 진행됨. 따라서 마지막까지 진행되면 최종 출력은 한개의 값만 남게 됨"
   ]
  },
  {
   "cell_type": "code",
   "execution_count": 20,
   "metadata": {},
   "outputs": [
    {
     "data": {
      "text/plain": [
       "True"
      ]
     },
     "execution_count": 20,
     "metadata": {},
     "output_type": "execute_result"
    }
   ],
   "source": [
    "def even(n):\n",
    "    return n % 2 == 0\n",
    "\n",
    "even(2)"
   ]
  },
  {
   "cell_type": "code",
   "execution_count": 24,
   "metadata": {},
   "outputs": [
    {
     "data": {
      "text/plain": [
       "[2, 6, 8, 10]"
      ]
     },
     "execution_count": 24,
     "metadata": {},
     "output_type": "execute_result"
    }
   ],
   "source": [
    "# filter(함수, 리스트)\n",
    "nums = [1, 2, 3, 6, 8, 9, 10, 11, 13, 15]\n",
    "# list(filter(even,nums))     \n",
    "list(filter(lambda n:n%2==0,nums))  # lambda 함수를 사용한 예"
   ]
  },
  {
   "cell_type": "code",
   "execution_count": 25,
   "metadata": {},
   "outputs": [
    {
     "data": {
      "text/plain": [
       "[1, 4, 9, 36, 64, 81, 100, 121, 169, 225]"
      ]
     },
     "execution_count": 25,
     "metadata": {},
     "output_type": "execute_result"
    }
   ],
   "source": [
    "# map(함수, 리스트)\n",
    "# 주어진 리스트에서, 각 원소를 제곱한 숫자로 새로운 리스트 생성\n",
    "nums = [1, 2, 3, 6, 8, 9, 10, 11, 13, 15]\n",
    "list(map(lambda n:n**2, nums))"
   ]
  },
  {
   "cell_type": "code",
   "execution_count": 28,
   "metadata": {},
   "outputs": [
    {
     "data": {
      "text/plain": [
       "[False, True, False, True, True, False, True, False, False, False]"
      ]
     },
     "execution_count": 28,
     "metadata": {},
     "output_type": "execute_result"
    }
   ],
   "source": [
    "# map 은 주어진 리스트의 원소 개수는 그대로 유지하면서 각 원소들이 함수에 적용된 결과 값으로 새로운 리스트 생성 함\n",
    "nums = [1, 2, 3, 6, 8, 9, 10, 11, 13, 15]\n",
    "list(map(lambda n:n%2==0,nums))  "
   ]
  },
  {
   "cell_type": "code",
   "execution_count": 23,
   "metadata": {},
   "outputs": [
    {
     "data": {
      "text/plain": [
       "10"
      ]
     },
     "execution_count": 23,
     "metadata": {},
     "output_type": "execute_result"
    }
   ],
   "source": [
    "# reduce(함수, 리스트)\n",
    "\n",
    "import functools  # reduce 함수를 사용하기 위해서 정의 필요\n",
    "\n",
    "a = [1, 2, 3, 4]\n",
    "\n",
    "# 리스트 내의 모든 숫자의 합\n",
    "functools.reduce(lambda x,y:x+y, a)"
   ]
  },
  {
   "cell_type": "markdown",
   "metadata": {},
   "source": [
    "\n",
    "#### 함수 연습문제\n",
    " 1. 주어진 숫자 리스트의 평균을 구하는 함수를 출력하시오\n",
    " 1. 해당 숫자가 소수인지 아닌지 판별하시오.\n",
    " 2. 2부터 해당 숫자사이에 소수가 몇개인지 출력하는 함수를 구하시오 "
   ]
  },
  {
   "cell_type": "code",
   "execution_count": 25,
   "metadata": {},
   "outputs": [
    {
     "name": "stdout",
     "output_type": "stream",
     "text": [
      "5.2\n",
      "13.8625\n"
     ]
    }
   ],
   "source": [
    "# 입력: 리스트\n",
    "# 출력: 리스트의 평균\n",
    "\n",
    "def mean(nums):\n",
    " #   _sum = 0\n",
    " #   for i in nums:\n",
    " #       _sum += i\n",
    "    return sum(nums) / len(nums)  # sum 내장함수 사용\n",
    "\n",
    "print(mean([1, 3, 4, 8, 10]))\n",
    "print(mean([1, 4, 7, 8, 12, 26.2, 18, 34.7]))"
   ]
  },
  {
   "cell_type": "code",
   "execution_count": 26,
   "metadata": {},
   "outputs": [
    {
     "name": "stdout",
     "output_type": "stream",
     "text": [
      "False\n",
      "True\n",
      "True\n",
      "True\n"
     ]
    }
   ],
   "source": [
    "# 소수 판별(1과 자기자신으로만 나눠지는 수)\n",
    "# 입력: 양의 정수 1개\n",
    "# 출력: bool(소수: True, 합성수: False)\n",
    "\n",
    "# 17\n",
    "# 2, 3, 4, 5, 6, 7, 8, 9, ...,16\n",
    "\n",
    "def is_prime(num):\n",
    "    for i in range(2,num):\n",
    "        if num % i == 0:  # 나눠 떨어진다면 합성수\n",
    "            return False\n",
    "    return True\n",
    "\n",
    "print(is_prime(100))\n",
    "print(is_prime(89))\n",
    "print(is_prime(17))\n",
    "print(is_prime(2))"
   ]
  },
  {
   "cell_type": "code",
   "execution_count": 27,
   "metadata": {},
   "outputs": [
    {
     "name": "stdout",
     "output_type": "stream",
     "text": [
      "4\n",
      "3\n",
      "25\n"
     ]
    }
   ],
   "source": [
    "# 2, 3, 4, 5, 6, 7 --> 4\n",
    "# 2, 3, 4, 5 --> 3\n",
    "# 입력: 양의 정수 1개\n",
    "# 출력: 2-해당 숫자 사이의 소수의 개수\n",
    "\n",
    "def num_prime(num):\n",
    "    _count = 0\n",
    "    for i in range(2,num+1):\n",
    "        if is_prime(i):\n",
    "            _count += 1\n",
    "    return _count\n",
    "\n",
    "print(num_prime(7))\n",
    "print(num_prime(5))\n",
    "print(num_prime(100))"
   ]
  }
 ],
 "metadata": {
  "kernelspec": {
   "display_name": "Python 3",
   "language": "python",
   "name": "python3"
  },
  "language_info": {
   "codemirror_mode": {
    "name": "ipython",
    "version": 3
   },
   "file_extension": ".py",
   "mimetype": "text/x-python",
   "name": "python",
   "nbconvert_exporter": "python",
   "pygments_lexer": "ipython3",
   "version": "3.7.7"
  }
 },
 "nbformat": 4,
 "nbformat_minor": 1
}
