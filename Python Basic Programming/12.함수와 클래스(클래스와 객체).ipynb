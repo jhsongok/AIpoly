{
 "cells": [
  {
   "cell_type": "markdown",
   "metadata": {},
   "source": [
    "# 클래스와 오브젝트"
   ]
  },
  {
   "cell_type": "markdown",
   "metadata": {},
   "source": [
    "#### **class란?**\n",
    " + 실세계의 것을 모델링하여 속성(attribute)와 동작(method)를 갖는 데이터 타입\n",
    " + python에서 int, string, bool, list, dict 등 모두것이 다 클래스로 존재\n",
    " + 예) 학생 class\n",
    "   - 학생을 나타내는 속성과 학생이 행하는 행동을 함께 정의 할 수 있음\n",
    "   - 다루고자 하는 데이터(변수)와 데이터를 다루는 연산(함수)를 하나로 캡슐화(encapsulation)하여 클래스로 표현"
   ]
  },
  {
   "cell_type": "markdown",
   "metadata": {},
   "source": [
    "#### **object 란?**\n",
    " - Object(객체)와 instance(인스턴스)는 같은 의미로 사용 됨\n",
    " - 클래스로 생성되어 구체화된 객체\n",
    " - 파이썬의 모든 것(int, string, bool, list, dict 등)은 객체\n",
    " - 실제로 클래스가 인스턴스화 되어 메모리에 상주하는 상태를 의미\n",
    " - class가 붕어빵을 만드는 틀이라면, object는 붕어빵 틀로 찍어낸 붕어빵이라고 비유 가능"
   ]
  },
  {
   "cell_type": "markdown",
   "metadata": {},
   "source": [
    "#### **class 만들기**\n",
    "  - 객체를 생성하기 위해선 객체의 모체가 되는 class를 먼저 만들어야 함"
   ]
  },
  {
   "cell_type": "code",
   "execution_count": 2,
   "metadata": {},
   "outputs": [],
   "source": [
    "class person:\n",
    "    pass  # pass는 문법적으로 오류를 발생시키지 않고 빈 class 를 생성할 수 있게 한다.\n",
    "          # 정의는 하되 로직 구현은 나중에 하고자 할 때 사용 함"
   ]
  },
  {
   "cell_type": "code",
   "execution_count": 3,
   "metadata": {},
   "outputs": [
    {
     "name": "stdout",
     "output_type": "stream",
     "text": [
      "<class '__main__.person'> <class '__main__.person'>\n",
      "<class 'list'> <class 'list'>\n"
     ]
    }
   ],
   "source": [
    "Jone = person()    # person 타입의 빈 객체를 생성\n",
    "Teddy = person()   # person 타입의 빈 객체를 생성\n",
    "\n",
    "a = list()  # list 타입의 빈 객체를 생성 \n",
    "b = list()  # list 타입의 빈 객체를 생성 \n",
    "\n",
    "print(type(Jone), type(Teddy)) # Jone과 Teddy는 person class 로 부터 만들어진 객체 \n",
    "print(type(a), type(b))        # a와 b는 list class 로 부터 만들어진 객체"
   ]
  },
  {
   "cell_type": "markdown",
   "metadata": {},
   "source": [
    "#### init 메소드의 이해\n",
    " - 객체가 생성될 때 자동으로 호출되는 메소드\n",
    " - 생성자(Constructor)라 불린다.\n",
    " - 객체에 초기값을 설정해야 할 필요가 있을 때 사용함"
   ]
  },
  {
   "cell_type": "code",
   "execution_count": 4,
   "metadata": {},
   "outputs": [
    {
     "name": "stdout",
     "output_type": "stream",
     "text": [
      "<__main__.person object at 0x0000014208E8B748> is generated\n",
      "<__main__.person object at 0x0000014208E8B988> is generated\n",
      "cathy 20\n"
     ]
    }
   ],
   "source": [
    "class person:\n",
    "    def __init__(self):\n",
    "        print(self, 'is generated')\n",
    "        self.name = 'Jenie'  # 매번 객체가 생성될 때마다 이름이 'Jenie' 를 갖게 된다.\n",
    "        self.age = 18        # 매번 객체가 생성될 때마다 나이가 18 을 갖게 된다.\n",
    "\n",
    "p1 = person() # person class 를 통해 객체가 생성될 때 init 함수가 자동적으로 실행되었다.\n",
    "p2 = person() # person class 를 통해 객체가 생성될 때 init 함수가 자동적으로 실행되었다.\n",
    "# p1, p2 객체는 메모리상에 서로 다른 위치에 생성되어 있음을 확인해 볼 수 있다.        \n",
    "\n",
    "p1.name = 'cathy'\n",
    "p1.age = 20\n",
    "\n",
    "print(p1.name, p1.age)"
   ]
  },
  {
   "cell_type": "code",
   "execution_count": 5,
   "metadata": {},
   "outputs": [
    {
     "name": "stdout",
     "output_type": "stream",
     "text": [
      "Jone 26\n",
      "Kate 23\n",
      "cathy 18\n"
     ]
    }
   ],
   "source": [
    "class person:\n",
    "    def __init__(self, name, age=18): # self 는 그냥 놔두고 name 과 age 파라미터를 받겠다고 정의\n",
    "        # print(self, 'is generated')\n",
    "        # init 함수에서는 타입(class)이 처리하는 데이터를 정의 함\n",
    "        self.name = name  # 파라미터로 값(name)을 받아서 동적으로 값을 초기화 할 경우 사용 \n",
    "        self.age = age    # 파라미터로 값(age)을 받아서 동적으로 값을 초기화 할 경우 사용  \n",
    "\n",
    "p1 = person('Jone', 26)\n",
    "p2 = person('Kate', 23)\n",
    "p3 = person('cathy')\n",
    "\n",
    "print(p1.name, p1.age)\n",
    "print(p2.name, p2.age)\n",
    "print(p3.name, p3.age)"
   ]
  },
  {
   "cell_type": "markdown",
   "metadata": {},
   "source": [
    "#### self 키워드의 이해\n",
    "  - 클래스 내에서 method 정의 시 파라미터의 첫 번째 위치에 항상 self 가 와야 함\n",
    "  - 이름이 반드시 self일 필요는 없으나 관례적으로 self 를 사용함\n",
    "  - self 는 메모리상에 생성된 객체 그 자신을 의미함\n",
    "  - Java, C++, C# 에서의 this 와 같은 의미"
   ]
  },
  {
   "cell_type": "code",
   "execution_count": 7,
   "metadata": {},
   "outputs": [
    {
     "name": "stdout",
     "output_type": "stream",
     "text": [
      "self:  <__main__.Person object at 0x0000014208EDC5C8>\n",
      "self:  <__main__.Person object at 0x0000014208C4FE48>\n",
      "<__main__.Person object at 0x0000014208EDC5C8>\n",
      "<__main__.Person object at 0x0000014208C4FE48>\n",
      "self:  <__main__.Person object at 0x0000014208EDC5C8>\n",
      "Jenie 은 학교에 갑니다.\n",
      "self:  <__main__.Person object at 0x0000014208C4FE48>\n",
      "cathy 은 학교에 갑니다.\n"
     ]
    }
   ],
   "source": [
    "class Person:\n",
    "    def __init__(self, name, age):\n",
    "        print('self: ', self)\n",
    "        self.name = name\n",
    "        self.age = age\n",
    "    \n",
    "    def sleep(self):\n",
    "        print('self: ', self)\n",
    "        print(self.name, '은 학교에 갑니다.')\n",
    "\n",
    "a = Person('Jenie', 20)  # Person 타입의 객체를 메모리에 생성해 놓고 Person(a,'Jenie', 20) 와 같이 처리 됨\n",
    "b = Person('cathy', 30)  # Person 타입의 객체를 메모리에 생성해 놓고 Person(b,'cathy', 30) 와 같이 처리 됨\n",
    "\n",
    "# a와 b는 서로 다른 객체이기 때문에 메모리상에 서로 다른 주소에 생성되어 있는 것을 확인할 수 있다.\n",
    "# self 는 결국 메모리상에 생성된 객체 그 자체(자기 자신)를 의미 하며 메모리에 생성된 주소값을 가지고 있다.\n",
    "print(a)\n",
    "print(b)\n",
    "\n",
    "a.sleep() # a.sleep(a) 와 같이 처리 됨 \n",
    "b.sleep() # b.sleep(b) 와 같이 처리 됨"
   ]
  },
  {
   "cell_type": "markdown",
   "metadata": {},
   "source": [
    "#### **mehtod 정의**\n",
    " + 객체의 속성에 대해 연산을 행하기 위해 method 를 정의\n",
    " + 해당 클래스의 객체에서만 호출 가능\n",
    " + 객체명.method명() 형태로 호출됨"
   ]
  },
  {
   "cell_type": "code",
   "execution_count": 8,
   "metadata": {},
   "outputs": [
    {
     "name": "stdout",
     "output_type": "stream",
     "text": [
      "현재의 값은: 0\n",
      "현재의 값은: 3\n",
      "현재의 값은: 0\n",
      "현재의 값은: 1\n"
     ]
    }
   ],
   "source": [
    "# 1. 숫자를 하나 증가\n",
    "# 2. 숫자를 0으로 초기화\n",
    "\n",
    "class Counter:\n",
    "    def __init__(self):\n",
    "        self.num = 0\n",
    "    \n",
    "    def increment(self):\n",
    "        self.num += 1\n",
    "    \n",
    "    def reset(self):\n",
    "        self.num = 0\n",
    "        \n",
    "    def print_current_value(self):\n",
    "        print('현재의 값은:', self.num)\n",
    "\n",
    "# C1 객체의 속성값(num) 과 C2 객체의 속성값(num) 은 별개이며 메쏘드로 변화를 주었을 때 서로 영향을 미치지 않음을 확인\n",
    "        \n",
    "c1 = Counter()\n",
    "c1.print_current_value()\n",
    "c1.increment()\n",
    "c1.increment()\n",
    "c1.increment()\n",
    "c1.print_current_value()\n",
    "c1.reset()\n",
    "c1.print_current_value()\n",
    "\n",
    "c2 = Counter()\n",
    "c2.increment()\n",
    "c2.print_current_value()"
   ]
  },
  {
   "cell_type": "markdown",
   "metadata": {},
   "source": [
    "#### method 호출 방법\n",
    "  - 객체 레벨로 호출(instance method)\n",
    "    - 해당 객체의 method 로 호출\n",
    "  - 클래스 레벨로 호출(class method(static method))\n",
    "    - 해당 클래스의 method 로 호출"
   ]
  },
  {
   "cell_type": "code",
   "execution_count": 10,
   "metadata": {},
   "outputs": [
    {
     "name": "stdout",
     "output_type": "stream",
     "text": [
      "30\n",
      "200\n"
     ]
    }
   ],
   "source": [
    "class Math:\n",
    "    def add(self, a, b):\n",
    "        return a + b\n",
    "\n",
    "    def multiply(self, a, b):\n",
    "        return a * b\n",
    "\n",
    "# instance method 호출\n",
    "m = Math()\n",
    "print(m.add(10, 20))\n",
    "print(m.multiply(10, 20))"
   ]
  },
  {
   "cell_type": "code",
   "execution_count": 11,
   "metadata": {},
   "outputs": [
    {
     "name": "stdout",
     "output_type": "stream",
     "text": [
      "30\n",
      "200\n"
     ]
    }
   ],
   "source": [
    "class Math:\n",
    "# 유지해야할 데이터가 없고, 전달 된 데이터에 대해 그냥 처리만 하는 메쏘드만 필요할 때 메쏘드 앞에 @staticmethod 을 선언 함.\n",
    "# @staticmethod 로 선언해준 메쏘드는 클래스 레벨로 호출이 가능해 지고 인스턴스 레벨로 호출하지 않으므로 self 키워드는 필요 없음.    \n",
    "    @staticmethod  \n",
    "    def add(a, b):\n",
    "        return a + b\n",
    "\n",
    "    @staticmethod\n",
    "    def multiply(a, b):\n",
    "        return a * b\n",
    "\n",
    "# class method(static method) 호출\n",
    "print(Math.add(10, 20))\n",
    "print(Math.multiply(10, 20))"
   ]
  },
  {
   "cell_type": "markdown",
   "metadata": {},
   "source": [
    " #### **class의 Inheritance (상속)**\n",
    "  - 상속이란 기존에 정의된 클래스의 기능(속성, method)을 그대로 물려받는 것을 의미\n",
    "  - 자식 클래스는 부모 클래스로부터 물려받은 기능에 추가하거나, 변경하여 새로운 클래스를 정의할 수 있다.\n",
    "  - 상속해주는 부모 클래스는 Parent, Super, Base class 라고 부른다.\n",
    "  - 상속을 받는 자식 클래스는 Child, Sub, Derived class 라고 부른다.\n",
    "  - 코드의 재사용 면에서 의미"
   ]
  },
  {
   "cell_type": "code",
   "execution_count": 17,
   "metadata": {},
   "outputs": [
    {
     "name": "stdout",
     "output_type": "stream",
     "text": [
      "Jenie은 bread을 먹습니다.\n",
      "Jenie은 7시간 동안 잡니다.\n",
      "Jenie은 8시간 동안 일합니다.\n"
     ]
    }
   ],
   "source": [
    "class Person:\n",
    "    def __init__(self, name, age):\n",
    "        self.name = name\n",
    "        self.age = age\n",
    "    \n",
    "    def eat(self, food):\n",
    "        print('{}은 {}을 먹습니다.'.format(self.name, food))\n",
    "    \n",
    "    def sleep(self, hour):\n",
    "        print('{}은 {}시간 동안 잡니다.'.format(self.name, hour))\n",
    "    \n",
    "    def work(self, hour):\n",
    "        print('{}은 {}시간 동안 일합니다.'.format(self.name, hour))\n",
    "    \n",
    "class Student(Person):\n",
    "    def __init__(self, name, age):\n",
    "        self.name = name\n",
    "        self.age = age\n",
    "\n",
    "class Employee(Person):\n",
    "    def __init__(self, name, age):\n",
    "        self.name = name\n",
    "        self.age = age\n",
    "\n",
    "Jenie = Person('Jenie', 18)\n",
    "Jenie.eat('bread')\n",
    "Jenie.sleep(7)\n",
    "Jenie.work(8)"
   ]
  },
  {
   "cell_type": "code",
   "execution_count": 18,
   "metadata": {},
   "outputs": [
    {
     "name": "stdout",
     "output_type": "stream",
     "text": [
      "cathy은 cake을 먹습니다.\n",
      "cathy은 7시간 동안 잡니다.\n",
      "cathy은 6시간 동안 일합니다.\n"
     ]
    }
   ],
   "source": [
    "cathy = Student('cathy', 20)  # Student class에 eat, sleep, work 가 선언되어 있지 않아도 Person으로 부터 상속 받았기 때문에 \n",
    "                              # eat, sleep, work 메쏘드를 그대로 사용할 수 있다.\n",
    "cathy.eat('cake')\n",
    "cathy.sleep(7)\n",
    "cathy.work(6)"
   ]
  },
  {
   "cell_type": "markdown",
   "metadata": {},
   "source": [
    "#### **method override**\n",
    " - 부모 클래스의 method 이름과 동일하게 자식 클래스에서 method 를 정의하면 override 된다.\n",
    " - 자식 클래스의 객체 호출 시 재정의된 method 가 호출됨"
   ]
  },
  {
   "cell_type": "code",
   "execution_count": 19,
   "metadata": {},
   "outputs": [
    {
     "name": "stdout",
     "output_type": "stream",
     "text": [
      "Teddy은 bread을 먹습니다.\n",
      "Teddy은 8시간 동안 잡니다.\n",
      "Teddy은 9시간 동안 일합니다.\n",
      "Jenie은 cake을 먹습니다.\n",
      "Jenie은 7시간 동안 잡니다.\n",
      "Jenie은 8시간 동안 공부를 합니다.\n",
      "cathy은 ice cream을 먹습니다.\n",
      "cathy은 6시간 동안 잡니다.\n",
      "cathy은 7시간 동안 업무를 합니다.\n"
     ]
    }
   ],
   "source": [
    "class Person:\n",
    "    def __init__(self, name, age):\n",
    "        self.name = name\n",
    "        self.age = age\n",
    "    \n",
    "    def eat(self, food):\n",
    "        print('{}은 {}을 먹습니다.'.format(self.name, food))\n",
    "    \n",
    "    def sleep(self, hour):\n",
    "        print('{}은 {}시간 동안 잡니다.'.format(self.name, hour))\n",
    "    \n",
    "    def work(self, hour):\n",
    "        print('{}은 {}시간 동안 일합니다.'.format(self.name, hour))\n",
    "    \n",
    "class Student(Person):\n",
    "    def __init__(self, name, age):\n",
    "        self.name = name\n",
    "        self.age = age\n",
    "    \n",
    "    # 메쏘드 override 정의\n",
    "    def work(self, hour):\n",
    "        print('{}은 {}시간 동안 공부를 합니다.'.format(self.name, hour))\n",
    "\n",
    "class Employee(Person):\n",
    "    def __init__(self, name, age):\n",
    "        self.name = name\n",
    "        self.age = age\n",
    "        \n",
    "    # 메쏘드 override 정의\n",
    "    def work(self, hour):\n",
    "        print('{}은 {}시간 동안 업무를 합니다.'.format(self.name, hour))    \n",
    "\n",
    "Teddy = Person('Teddy', 17)\n",
    "Teddy.eat('bread')\n",
    "Teddy.sleep(8)\n",
    "Teddy.work(9)\n",
    "\n",
    "Jenie = Student('Jenie', 18)\n",
    "Jenie.eat('cake')\n",
    "Jenie.sleep(7)\n",
    "Jenie.work(8)\n",
    "\n",
    "cathy = Employee('cathy', 19)\n",
    "cathy.eat('ice cream')\n",
    "cathy.sleep(6)\n",
    "cathy.work(7)"
   ]
  },
  {
   "cell_type": "markdown",
   "metadata": {},
   "source": [
    "#### super \n",
    " - 자식 클래스에서 부모클래스의 method를 호출할 때 사용"
   ]
  },
  {
   "cell_type": "code",
   "execution_count": 22,
   "metadata": {},
   "outputs": [
    {
     "name": "stdout",
     "output_type": "stream",
     "text": [
      "Jenie은 cake을 먹습니다.\n",
      "Jenie은 8시간 동안 잡니다.\n",
      "Jenie은 7시간 동안 일합니다.\n",
      "Jenie은 7시간 동안 업무를 합니다.\n"
     ]
    }
   ],
   "source": [
    "class Person:\n",
    "    def __init__(self, name, age):\n",
    "        self.name = name\n",
    "        self.age = age\n",
    "    \n",
    "    def eat(self, food):\n",
    "        print('{}은 {}을 먹습니다.'.format(self.name, food))\n",
    "    \n",
    "    def sleep(self, hour):\n",
    "        print('{}은 {}시간 동안 잡니다.'.format(self.name, hour))\n",
    "    \n",
    "    def work(self, hour):\n",
    "        print('{}은 {}시간 동안 일합니다.'.format(self.name, hour))\n",
    "    \n",
    "class Student(Person):\n",
    "    def __init__(self, name, age):\n",
    "        self.name = name\n",
    "        self.age = age\n",
    "    \n",
    "    # 메쏘드 override 정의\n",
    "    def work(self, hour):\n",
    "        super().work(hour)  # 부모 클래스의 메쏘드를 이용하고자 할 경우\n",
    "        print('{}은 {}분 동안 공부를 합니다.'.format(self.name, hour))\n",
    "\n",
    "class Employee(Person):\n",
    "    def __init__(self, name, age):\n",
    "        self.name = name\n",
    "        self.age = age\n",
    "        \n",
    "    # 메쏘드 override 정의\n",
    "    def work(self, hour):\n",
    "        super().work(hour) # 부모 클래스의 메쏘드를 이용하고자 할 경우\n",
    "        print('{}은 {}시간 동안 업무를 합니다.'.format(self.name, hour))    \n",
    "\n",
    "Jenie = Employee('Jenie', 18)\n",
    "Jenie.eat('cake')\n",
    "Jenie.sleep(8)\n",
    "Jenie.work(7)"
   ]
  }
 ],
 "metadata": {
  "kernelspec": {
   "display_name": "Python 3",
   "language": "python",
   "name": "python3"
  },
  "language_info": {
   "codemirror_mode": {
    "name": "ipython",
    "version": 3
   },
   "file_extension": ".py",
   "mimetype": "text/x-python",
   "name": "python",
   "nbconvert_exporter": "python",
   "pygments_lexer": "ipython3",
   "version": "3.7.7"
  }
 },
 "nbformat": 4,
 "nbformat_minor": 1
}
