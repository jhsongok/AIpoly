{
 "cells": [
  {
   "cell_type": "markdown",
   "metadata": {},
   "source": [
    "# 딕셔너리(dictionary)\n",
    " + key와 value을 갖는 데이터 구조\n",
    " + key는 내부적으로 hash값으로 저장\n",
    " + 순서를 따지지 않음. 즉, 인덱스가 없음"
   ]
  },
  {
   "cell_type": "markdown",
   "metadata": {},
   "source": [
    "#### dictionary 생성방법\n",
    "- {}안에 값을 담아서 생성\n",
    "- key : value 쌍으로 항목 추가\n",
    "- key 에는 변하지 않는 값을, value 에는 변하는 값과 변하지 않는 값 모두 사용 가능"
   ]
  },
  {
   "cell_type": "code",
   "execution_count": 2,
   "metadata": {},
   "outputs": [
    {
     "name": "stdout",
     "output_type": "stream",
     "text": [
      "0\n",
      "4\n"
     ]
    }
   ],
   "source": [
    "a = [0, 1, 2, 3, 4, 10, 100, 200, 300]\n",
    "print(a[0])  # 리스트에서 값의 인덱스를 알고 있다면 찾아오는데 걸리는 시간은 거의 0에 가까움\n",
    "print(a[4])"
   ]
  },
  {
   "cell_type": "code",
   "execution_count": 3,
   "metadata": {},
   "outputs": [
    {
     "name": "stdout",
     "output_type": "stream",
     "text": [
      "{'Korea': 'Seoul', 'Canada': 'Ottawa', 'USA': 'Washington D.C'}\n",
      "Seoul\n"
     ]
    }
   ],
   "source": [
    "a = {'Korea':'Seoul',\n",
    "     'Canada':'Ottawa',\n",
    "     'USA':'Washington D.C'}\n",
    "\n",
    "print(a)\n",
    "# print(a[0])  인덱스가 없음, 즉 순서가 없음\n",
    "\n",
    "print(a['Korea']) # key에 해당하는 Value 를 가져옴\n"
   ]
  },
  {
   "cell_type": "code",
   "execution_count": 4,
   "metadata": {},
   "outputs": [
    {
     "name": "stdout",
     "output_type": "stream",
     "text": [
      "1\n"
     ]
    }
   ],
   "source": [
    "b = {0:1, 1:6, 7:9, 8:10}\n",
    "print(b[0])  # 0은 인덱스가 아니라 Key 임"
   ]
  },
  {
   "cell_type": "markdown",
   "metadata": {},
   "source": [
    "#### dictionary에 항목 추가 및 변경\n",
    " - 기존에 key가 존재하면, 새로운 value로 업데이트\n",
    " - 기존에 key가 존재하지 않으면, key와 value 추가"
   ]
  },
  {
   "cell_type": "code",
   "execution_count": 5,
   "metadata": {},
   "outputs": [
    {
     "name": "stdout",
     "output_type": "stream",
     "text": [
      "{'Korea': 'Seoul', 'Canada': 'Ottawa', 'USA': 'Washington D.C', 'Japan': 'Kyoto', 'Japan2': 'Kyoto', 'China': 'Beijing'}\n"
     ]
    }
   ],
   "source": [
    "a = {'Korea':'Seoul',\n",
    "     'Canada':'Ottawa',\n",
    "     'USA':'Washington D.C'}\n",
    "\n",
    "a['Japan'] = 'Tokyo'\n",
    "a['Japan'] = 'Kyoto'  # Key는 중복이 안되기 때문에 해당 Key 의 value를 업데이트 함\n",
    "a['Japan2'] = 'Kyoto' # 하지만 value는 여러개 중복되어도 상관없음\n",
    "a['China'] = 'Beijing'\n",
    "\n",
    "print(a)"
   ]
  },
  {
   "cell_type": "markdown",
   "metadata": {},
   "source": [
    "#### dictionary 항목 삭제\n",
    " - del 키워드 사용\n",
    " - pop 함수 이용"
   ]
  },
  {
   "cell_type": "code",
   "execution_count": 7,
   "metadata": {},
   "outputs": [
    {
     "name": "stdout",
     "output_type": "stream",
     "text": [
      "{'a': 1, 'b': 2, 'c': 3}\n",
      "{'a': 1, 'c': 3}\n"
     ]
    }
   ],
   "source": [
    "a = {'a':1, 'b':2, 'c':3}\n",
    "print(a)\n",
    "\n",
    "# a.pop('b') #pop 함수의 이용하여 삭제할 경우\n",
    "del a['b'] # del 키워드를 이용하여 삭제할 경우\n",
    "print(a)"
   ]
  },
  {
   "cell_type": "code",
   "execution_count": 8,
   "metadata": {},
   "outputs": [
    {
     "name": "stdout",
     "output_type": "stream",
     "text": [
      "100\n"
     ]
    },
    {
     "ename": "NameError",
     "evalue": "name 'c' is not defined",
     "output_type": "error",
     "traceback": [
      "\u001b[1;31m---------------------------------------------------------------------------\u001b[0m",
      "\u001b[1;31mNameError\u001b[0m                                 Traceback (most recent call last)",
      "\u001b[1;32m<ipython-input-8-9cc4030c1b87>\u001b[0m in \u001b[0;36m<module>\u001b[1;34m\u001b[0m\n\u001b[0;32m      2\u001b[0m \u001b[1;33m\u001b[0m\u001b[0m\n\u001b[0;32m      3\u001b[0m \u001b[1;32mdel\u001b[0m \u001b[0mc\u001b[0m  \u001b[1;31m# 스택에 저장된 c변수를 삭제\u001b[0m\u001b[1;33m\u001b[0m\u001b[1;33m\u001b[0m\u001b[0m\n\u001b[1;32m----> 4\u001b[1;33m \u001b[0mprint\u001b[0m\u001b[1;33m(\u001b[0m\u001b[0mc\u001b[0m\u001b[1;33m)\u001b[0m \u001b[1;31m# c변수는 삭제되었기 때문에 defined 에러 발생\u001b[0m\u001b[1;33m\u001b[0m\u001b[1;33m\u001b[0m\u001b[0m\n\u001b[0m",
      "\u001b[1;31mNameError\u001b[0m: name 'c' is not defined"
     ]
    }
   ],
   "source": [
    "c = 100\n",
    "print(c)  # 위에서 명시했기 때문에 출력 가능\n",
    "\n",
    "del c    # 스택에 저장된 c변수를 삭제\n",
    "print(c) # c변수는 삭제되었기 때문에 defined 에러 발생"
   ]
  },
  {
   "cell_type": "markdown",
   "metadata": {},
   "source": [
    "#### dictionary 멤버 함수\n",
    "- 생성된 dictionary 객체에 동작하는 함수"
   ]
  },
  {
   "cell_type": "markdown",
   "metadata": {},
   "source": [
    "* **clear()**\n",
    " + dictionary의 모든 값을 초기화\n"
   ]
  },
  {
   "cell_type": "code",
   "execution_count": 17,
   "metadata": {},
   "outputs": [
    {
     "name": "stdout",
     "output_type": "stream",
     "text": [
      "{'a': 1, 'b': 2, 'c': 3}\n",
      "{}\n"
     ]
    }
   ],
   "source": [
    "a = {'a':1, 'b':2, 'c':3}\n",
    "print(a)\n",
    "a.clear()\n",
    "print(a)"
   ]
  },
  {
   "cell_type": "markdown",
   "metadata": {},
   "source": [
    "+ **update()**\n",
    " * 두 dictionary를 병합\n",
    " * 겹치는 key가 있다면 전달되는 key의 value로 overwrite된다."
   ]
  },
  {
   "cell_type": "code",
   "execution_count": 18,
   "metadata": {},
   "outputs": [
    {
     "name": "stdout",
     "output_type": "stream",
     "text": [
      "{'a': 2, 'b': 2, 'c': 3, 'd': 4, 'e': 5}\n"
     ]
    }
   ],
   "source": [
    "a = {'a':1, 'b':2, 'c':3}\n",
    "b = {'a':2, 'd':4, 'e':5}\n",
    "\n",
    "a.update(b) # 중복되는 key의 value를 b의 value로 update 하고 나머지는 병합\n",
    "print(a)"
   ]
  },
  {
   "cell_type": "markdown",
   "metadata": {},
   "source": [
    "* **in**\n",
    " + key 존재 확인\n",
    " + dictionary의 크기와 관계없이 항상 연산 속도가 일정함\n",
    " + bool 형식 반환"
   ]
  },
  {
   "cell_type": "code",
   "execution_count": 19,
   "metadata": {},
   "outputs": [
    {
     "name": "stdout",
     "output_type": "stream",
     "text": [
      "{'a': 1, 'b': 2, 'c': 3}\n",
      "True\n",
      "False\n"
     ]
    }
   ],
   "source": [
    "a = {'a':1, 'b':2, 'c':3}\n",
    "print(a)\n",
    "\n",
    "print('b' in a)  # 리스트의 경우 성능 저하를 초래\n",
    "print('d' in a)  # 딕셔너리 크기와 상관없이 빠르게 검색됨"
   ]
  },
  {
   "cell_type": "code",
   "execution_count": 20,
   "metadata": {},
   "outputs": [
    {
     "name": "stdout",
     "output_type": "stream",
     "text": [
      "True\n",
      "True\n"
     ]
    }
   ],
   "source": [
    "a = {'a':1, 'b':2, 'c':3}\n",
    "b = [1, 2, 3, 4, 5, 6, 7, 8, 9, 10, 100]\n",
    "\n",
    "print(10 in b)\n",
    "print('b' in a)"
   ]
  },
  {
   "cell_type": "markdown",
   "metadata": {},
   "source": [
    "* **dictionary 항목에 접근 방법**\n",
    " + dict[key]로 접근, key가 없는 경우 에러 발생 \n",
    " + .get() 함수로 접근, key가 없는 경우 None 반환"
   ]
  },
  {
   "cell_type": "code",
   "execution_count": 21,
   "metadata": {},
   "outputs": [
    {
     "name": "stdout",
     "output_type": "stream",
     "text": [
      "2\n",
      "None\n"
     ]
    }
   ],
   "source": [
    "# a['d'] # 딕트에 'd' key값이 없으면 에러 발생, 프로그램 다운\n",
    "a = {'a':1, 'b':2, 'c':3}\n",
    "\n",
    "print(a.get('b'))\n",
    "print(a.get('d')) # key 값이 없어도 프로그램 다운을 막을 수 있다.\n",
    "\n",
    "if 'd' in a:\n",
    "    print(a['d'])"
   ]
  },
  {
   "cell_type": "markdown",
   "metadata": {},
   "source": [
    "* **dictionary 항목을 리스트로 가져오기**\n",
    " + keys() - dictionary에서 key만 가져옴\n",
    " + values() - dictionary에서 value만 가져옴\n",
    " + items() - dictionary에서 key, value 튜플로 가져옴"
   ]
  },
  {
   "cell_type": "code",
   "execution_count": 27,
   "metadata": {},
   "outputs": [
    {
     "name": "stdout",
     "output_type": "stream",
     "text": [
      "{'a': 1, 'b': 2, 'c': 3}\n",
      "<class 'dict_keys'>\n",
      "<class 'dict_values'>\n",
      "<class 'dict_items'>\n",
      "['a', 'b', 'c']\n",
      "[1, 2, 3]\n",
      "[('a', 1), ('b', 2), ('c', 3)]\n"
     ]
    }
   ],
   "source": [
    "a = {'a':1, 'b':2, 'c':3}\n",
    "print(a)\n",
    "\n",
    "print(type(a.keys()))\n",
    "print(type(a.values()))\n",
    "print(type(a.items()))\n",
    "\n",
    "print(list(a.keys()))    # key 를 리스트 형태로 변환 \n",
    "print(list(a.values()))  # Value 를 리스트 형태로 변환\n",
    "print(list(a.items()))   # key, value 튜플을 리스트 형태로 변환"
   ]
  },
  {
   "cell_type": "markdown",
   "metadata": {},
   "source": [
    "# set\n",
    " + dictionary에서 key만 활용하는 데이터 구조로 이해\n",
    " + 중복을 허용하지 않으면서 순서가 없는 데이터 구조(인덱스가 없음)\n",
    " + 수학에서의 집합과 동일한 개념"
   ]
  },
  {
   "cell_type": "markdown",
   "metadata": {},
   "source": [
    "#### set 생성 방법\n",
    "- {}안에 값을 담아서 생성\n",
    "- set() 함수 사용, 다른 데이터 타입을 set로 변환할 때도 사용"
   ]
  },
  {
   "cell_type": "code",
   "execution_count": 28,
   "metadata": {},
   "outputs": [
    {
     "name": "stdout",
     "output_type": "stream",
     "text": [
      "{1, 2, 3, 4, 5}\n"
     ]
    }
   ],
   "source": [
    "a = {1, 1, 2, 3, 3, 4, 1, 5}\n",
    "print(a)\n",
    "\n",
    "# print(a[0]) set은 역시 인덱스가 없음, 즉 순서가 없음"
   ]
  },
  {
   "cell_type": "code",
   "execution_count": 53,
   "metadata": {},
   "outputs": [
    {
     "data": {
      "text/plain": [
       "set"
      ]
     },
     "execution_count": 53,
     "metadata": {},
     "output_type": "execute_result"
    }
   ],
   "source": [
    "a = {} # 빈 dict 로 생성됨\n",
    "a = set() # 빈 set 으로 생성됨\n",
    "type(a)"
   ]
  },
  {
   "cell_type": "code",
   "execution_count": 54,
   "metadata": {},
   "outputs": [
    {
     "name": "stdout",
     "output_type": "stream",
     "text": [
      "[1, 1, 2, 3, 3, 4, 1, 5]\n",
      "{1, 2, 3, 4, 5}\n"
     ]
    }
   ],
   "source": [
    "a = [1, 1, 2, 3, 3, 4, 1, 5]\n",
    "print(a)\n",
    "\n",
    "# 다른 데이터 구조에서 set 으로 변환\n",
    "b = set(a)  \n",
    "print(b)"
   ]
  },
  {
   "cell_type": "markdown",
   "metadata": {},
   "source": [
    "#### set operations(집합 연산)\n",
    " - 수학 연산과 동일\n",
    " - 교집합, 합집합, 차집합 등 지원"
   ]
  },
  {
   "cell_type": "code",
   "execution_count": 23,
   "metadata": {},
   "outputs": [
    {
     "name": "stdout",
     "output_type": "stream",
     "text": [
      "{1, 2, 3, 4}\n",
      "{2, 3}\n",
      "{1}\n",
      "False\n"
     ]
    }
   ],
   "source": [
    "a = {1, 2, 3}\n",
    "b = {2, 3, 4}\n",
    "\n",
    "print(a.union(b))        # 합집합\n",
    "print(a.intersection(b)) # 교집합\n",
    "print(a.difference(b))  # 차집합\n",
    "print(a.issubset(b))    # 부분집합(a가 b의 부분집합 인가?)"
   ]
  },
  {
   "cell_type": "markdown",
   "metadata": {},
   "source": [
    "# Bool\n",
    " + 참(True)과 거짓(False)을 나타내는 데이터 타입"
   ]
  }
 ],
 "metadata": {
  "kernelspec": {
   "display_name": "Python 3",
   "language": "python",
   "name": "python3"
  },
  "language_info": {
   "codemirror_mode": {
    "name": "ipython",
    "version": 3
   },
   "file_extension": ".py",
   "mimetype": "text/x-python",
   "name": "python",
   "nbconvert_exporter": "python",
   "pygments_lexer": "ipython3",
   "version": "3.7.7"
  }
 },
 "nbformat": 4,
 "nbformat_minor": 1
}
