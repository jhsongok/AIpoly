{
 "cells": [
  {
   "cell_type": "markdown",
   "metadata": {},
   "source": [
    "1. 주피터 노트북 빈파일 생성(언어는 Python3 선택)\n",
    "2. Cell의 2가지 모드(파란색-Command모드, 녹색-Edit모드)\n",
    "3. Command모드에서 'h'- 단축키 help 보기\n",
    "4. Command모드에서 Cell 추가('a' : 위로 추가, 'b' : 아래로 추가) , Cell 삭제 : 'dd'\n",
    "5. Cell 실행\n",
    "   - ctrl + Enter : 현재 Cell을 실행하고 그대로 위치\n",
    "   - shift + Enter : 현재 Cell을 실행하고 아래 Cell 로 이동\n",
    "   - alt + Enter : 현재 Cell을 실행하고 아래에 Cell을 추가하면서 이동\n",
    "6. Cell의 Type\n",
    "   - Code : Code 타입으로의 단축키: 'y'\n",
    "            Cell 옆에 In [ ] : 이 있으며 Python 코드를 입력하기 위해서는 반드시 Code type 의\n",
    "            Cell 로 작성해야 함. In [숫자] : 에서 숫자는 현재 세션에서 몇 번째 코드의 실행인지를\n",
    "            나타냄.\n",
    "             \n",
    "   - Markdown : Markdown 타입으로의 단축키 : 'm'\n",
    "                코드의 설명, 주석을 입력하기 위해 사용                "
   ]
  },
  {
   "cell_type": "markdown",
   "metadata": {},
   "source": [
    "7. Markdown 의 다양한 표현 기법들"
   ]
  },
  {
   "cell_type": "markdown",
   "metadata": {},
   "source": [
    "타이틀의 표현(#의 개수로 글자 크기 조절)\n",
    "\n",
    "# Hello python\n",
    "## hello python\n",
    "### hello python\n",
    "#### hello python"
   ]
  },
  {
   "cell_type": "markdown",
   "metadata": {},
   "source": [
    "Bold 의 표현, 이텔릭체의 표현\n",
    "\n",
    "**python** is really *cool*\n",
    "\n",
    "\n",
    "리스트의 표현(들여쓰기로 리스트의 depth 조절)\n",
    "\n",
    "[순서가 없는 리스트]\n",
    "\n",
    "- python\n",
    " - pandas\n",
    "   - depth1\n",
    "   - depth2\n",
    " - numpy\n",
    "- java\n",
    "- c++\n",
    "- c#\n",
    "\n",
    "[순서가 있는 리스트]\n",
    "\n",
    "1. python\n",
    "2. java\n",
    "3. c++\n",
    "\n",
    "\n",
    "[수학식의 표현은 $수학식$ 형식으로 표현]\n",
    "\n",
    "y = 3x\n",
    "\n",
    "$y = 3x$      \n",
    "\n",
    "\n",
    "[파이썬 코드를 그대로 표현하고자 하는 경우]\n",
    "\n",
    "```python\n",
    "a = 10\n",
    "print(a)\n",
    "```\n",
    "\n",
    "[링크 표시]\n",
    "\n",
    "[파이썬 공식 페이지](https://www.python.org/)\n",
    "\n"
   ]
  }
 ],
 "metadata": {
  "kernelspec": {
   "display_name": "Python 3",
   "language": "python",
   "name": "python3"
  },
  "language_info": {
   "codemirror_mode": {
    "name": "ipython",
    "version": 3
   },
   "file_extension": ".py",
   "mimetype": "text/x-python",
   "name": "python",
   "nbconvert_exporter": "python",
   "pygments_lexer": "ipython3",
   "version": "3.7.7"
  }
 },
 "nbformat": 4,
 "nbformat_minor": 2
}
