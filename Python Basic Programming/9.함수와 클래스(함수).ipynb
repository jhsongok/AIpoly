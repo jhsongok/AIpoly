{
 "cells": [
  {
   "cell_type": "markdown",
   "metadata": {},
   "source": [
    "# 함수\n",
    "* 함수란 들어온 입력값을 받아 어떠한 처리를 하여 적절한 결과값을 돌려주는 역할을 합니다.\n",
    "* 예를 들면\n",
    "  - range 함수는 정수를 입력받아 [0, 정수-1] 로 이루어진 리스트를 돌려주는 역할을 합니다.\n",
    "  - len 함수는 리스트, 튜플 등을 입력받아 전체 원소의 개수를 돌려주는 역할을 합니다.\n",
    "  - sum 함수는 리스트, 튜플 등을 입력받아 전체 원소의 합을 돌려주는 역할을 합니다.\n",
    "* 위와 같은 함수는 python 내부에 이미 정의되어 있으며 내장함수(built-in function)이라고 합니다."
   ]
  },
  {
   "cell_type": "code",
   "execution_count": 3,
   "metadata": {},
   "outputs": [
    {
     "name": "stdout",
     "output_type": "stream",
     "text": [
      "[0, 1, 2, 3, 4, 5, 6, 7]\n",
      "8\n",
      "28\n"
     ]
    }
   ],
   "source": [
    "a = list(range(8))\n",
    "print(a)\n",
    "\n",
    "length = len(a)\n",
    "print(length)\n",
    "\n",
    "summation = sum(a)\n",
    "print(summation)"
   ]
  },
  {
   "cell_type": "markdown",
   "metadata": {},
   "source": [
    "#### **함수의 정의**\n",
    "  + def 키워드를 사용하여 정의\n",
    "  + argument 정의(함수에 전달하는 입력값을 의미, argument or parameter라고 함) \n",
    "  + : (콜론) -> 함수 역시 코드 블록이기 때문에 콜론(:) 필요\n",
    "  + body(함수의 구현 부분, 함수 역시 코드 블록이기 때문에 들여쓰기 된 부분까지 함수의 코드블록으로 인지)\n",
    "    - 코드에서 함수가 호출되면\n",
    "    - 호출된 함수는 해당 기능을 수행하고\n",
    "    - return 키워드를 사용해 호출한 코드로 리턴값을 전달한다.\n",
    "    - return 리턴값 형식으로 작성하며, 리턴값이 없다면 생략가능 함.\n",
    "  + 코드의 이해를 위해 함수의 naming 역시 중요\n",
    "    - 어떤 기능을 하는 함수인지 이름으로 최대한 나타날 수 있게 표현\n",
    "    - ex) get_a (x) get_hakbun (o)"
   ]
  },
  {
   "cell_type": "code",
   "execution_count": 4,
   "metadata": {},
   "outputs": [],
   "source": [
    "def add(x, y):\n",
    "    n = x + y\n",
    "    return n    "
   ]
  },
  {
   "cell_type": "code",
   "execution_count": 6,
   "metadata": {},
   "outputs": [
    {
     "name": "stdout",
     "output_type": "stream",
     "text": [
      "550\n"
     ]
    }
   ],
   "source": [
    "c = add(50, 500)\n",
    "print(c)"
   ]
  },
  {
   "cell_type": "markdown",
   "metadata": {},
   "source": [
    "#### **함수의 호출**\n",
    " + 함수명(파라미터1, 파라미터2, ... 파라미터n) 형식으로 함수 호출"
   ]
  },
  {
   "cell_type": "markdown",
   "metadata": {},
   "source": [
    "#### **parameter(argument)**\n",
    " + 함수에 전달되는 입력값\n",
    " + 입력값이 반드시 있어야 하는 것은 아님. 입력값이 없는 함수도 있음\n",
    " + 입력값으로 다양한 데이터 타입 전달 가능(숫자형, 문자열, bool, 리스트, 튜플, 딕셔너리, set 등)\n",
    " + 파라미터에 타입 명시가 없으므로, 의도된 파라미터 타입으로 입력값을 전달해 주어야 함\n",
    " + 파라미터 순서에 따라 입력값도 전달해 주어야 함"
   ]
  },
  {
   "cell_type": "code",
   "execution_count": 7,
   "metadata": {},
   "outputs": [
    {
     "name": "stdout",
     "output_type": "stream",
     "text": [
      "What a wonderful world\n",
      "Have a good day\n",
      "100\n"
     ]
    }
   ],
   "source": [
    "def test():\n",
    "    print('What a wonderful world')\n",
    "    print('Have a good day')\n",
    "    \n",
    "    return 100\n",
    "\n",
    "a = test()\n",
    "print(a)"
   ]
  },
  {
   "cell_type": "code",
   "execution_count": 8,
   "metadata": {},
   "outputs": [
    {
     "ename": "TypeError",
     "evalue": "unsupported operand type(s) for -: 'str' and 'str'",
     "output_type": "error",
     "traceback": [
      "\u001b[1;31m---------------------------------------------------------------------------\u001b[0m",
      "\u001b[1;31mTypeError\u001b[0m                                 Traceback (most recent call last)",
      "\u001b[1;32m<ipython-input-8-aa843ba45ac2>\u001b[0m in \u001b[0;36m<module>\u001b[1;34m\u001b[0m\n\u001b[0;32m      3\u001b[0m     \u001b[1;32mreturn\u001b[0m \u001b[0msub\u001b[0m\u001b[1;33m\u001b[0m\u001b[1;33m\u001b[0m\u001b[0m\n\u001b[0;32m      4\u001b[0m \u001b[1;33m\u001b[0m\u001b[0m\n\u001b[1;32m----> 5\u001b[1;33m \u001b[0ma\u001b[0m \u001b[1;33m=\u001b[0m \u001b[0msubstract\u001b[0m\u001b[1;33m(\u001b[0m\u001b[1;34m'you'\u001b[0m\u001b[1;33m,\u001b[0m \u001b[1;34m'me'\u001b[0m\u001b[1;33m)\u001b[0m  \u001b[1;31m# 의도된 파라미터의 타입에 맞게 입력 값을 전달해 주어야 함\u001b[0m\u001b[1;33m\u001b[0m\u001b[1;33m\u001b[0m\u001b[0m\n\u001b[0m\u001b[0;32m      6\u001b[0m \u001b[0mprint\u001b[0m\u001b[1;33m(\u001b[0m\u001b[0ma\u001b[0m\u001b[1;33m)\u001b[0m\u001b[1;33m\u001b[0m\u001b[1;33m\u001b[0m\u001b[0m\n",
      "\u001b[1;32m<ipython-input-8-aa843ba45ac2>\u001b[0m in \u001b[0;36msubstract\u001b[1;34m(x, y)\u001b[0m\n\u001b[0;32m      1\u001b[0m \u001b[1;32mdef\u001b[0m \u001b[0msubstract\u001b[0m\u001b[1;33m(\u001b[0m\u001b[0mx\u001b[0m\u001b[1;33m,\u001b[0m \u001b[0my\u001b[0m\u001b[1;33m)\u001b[0m\u001b[1;33m:\u001b[0m\u001b[1;33m\u001b[0m\u001b[1;33m\u001b[0m\u001b[0m\n\u001b[1;32m----> 2\u001b[1;33m     \u001b[0msub\u001b[0m \u001b[1;33m=\u001b[0m \u001b[0mx\u001b[0m \u001b[1;33m-\u001b[0m \u001b[0my\u001b[0m\u001b[1;33m\u001b[0m\u001b[1;33m\u001b[0m\u001b[0m\n\u001b[0m\u001b[0;32m      3\u001b[0m     \u001b[1;32mreturn\u001b[0m \u001b[0msub\u001b[0m\u001b[1;33m\u001b[0m\u001b[1;33m\u001b[0m\u001b[0m\n\u001b[0;32m      4\u001b[0m \u001b[1;33m\u001b[0m\u001b[0m\n\u001b[0;32m      5\u001b[0m \u001b[0ma\u001b[0m \u001b[1;33m=\u001b[0m \u001b[0msubstract\u001b[0m\u001b[1;33m(\u001b[0m\u001b[1;34m'you'\u001b[0m\u001b[1;33m,\u001b[0m \u001b[1;34m'me'\u001b[0m\u001b[1;33m)\u001b[0m  \u001b[1;31m# 의도된 파라미터의 타입에 맞게 입력 값을 전달해 주어야 함\u001b[0m\u001b[1;33m\u001b[0m\u001b[1;33m\u001b[0m\u001b[0m\n",
      "\u001b[1;31mTypeError\u001b[0m: unsupported operand type(s) for -: 'str' and 'str'"
     ]
    }
   ],
   "source": [
    "def substract(x, y):\n",
    "    sub = x - y\n",
    "    return sub\n",
    "\n",
    "a = substract('you', 'me')  # 의도된 파라미터의 타입에 맞게 입력값을 전달해 주어야 함\n",
    "print(a)"
   ]
  },
  {
   "cell_type": "markdown",
   "metadata": {},
   "source": [
    "####  Default parameter \n",
    " + 함수의 파라미터에 기본 파라미터 지정 가능\n",
    " + 파라미터에 입력값이 명시되어 호출된 경우 기본 파리미터 지정값 무시\n",
    " + 파라미터가 명시되지 않고 생략된 경우 지정된 기본 파라미터로 대체"
   ]
  },
  {
   "cell_type": "code",
   "execution_count": 10,
   "metadata": {},
   "outputs": [
    {
     "name": "stdout",
     "output_type": "stream",
     "text": [
      "60\n",
      "35\n"
     ]
    }
   ],
   "source": [
    "def add(x, y, z=5):  # z = 5 로 기본 파라미터로 지정, 따라서 x, y 파라미터만 입력하여 호출해도 에러가 나지 않음\n",
    "    a = x + y + z\n",
    "    return a\n",
    "\n",
    "print(add(10, 20, 30))\n",
    "print(add(10, 20))"
   ]
  },
  {
   "cell_type": "markdown",
   "metadata": {},
   "source": [
    "- **print 함수**\n",
    "  - sep, end 등 여러 기본 파라미터를 가짐 "
   ]
  },
  {
   "cell_type": "code",
   "execution_count": 12,
   "metadata": {},
   "outputs": [
    {
     "name": "stdout",
     "output_type": "stream",
     "text": [
      "이제!시작!이다%%%화 이 팅\n"
     ]
    }
   ],
   "source": [
    "print('이제', '시작', '이다', sep='!', end='%%%')\n",
    "print('화', '이', '팅')"
   ]
  },
  {
   "cell_type": "markdown",
   "metadata": {},
   "source": [
    "####  Default parameter 사용 시 주의 점\n",
    "  * default parameter 뒤에 일반 파라미터가 위치할 수 없다\n",
    "  \n",
    "  * 올바른 예)\n",
    "    > def test(a, b, c = 1)\n",
    "    \n",
    "    > def test(a, b = 1, c = 2)\n",
    "    \n",
    "    > def test(a = 1, b = 1, c = 3)\n",
    "    \n",
    "  * 잘못된 예)\n",
    "    > def test(a, b = 1, c)\n",
    "    \n",
    "    > def test(a = 1, b, c)\n",
    "    \n",
    "    > def test(a = 1, b = 1, c)"
   ]
  },
  {
   "cell_type": "code",
   "execution_count": 14,
   "metadata": {},
   "outputs": [
    {
     "ename": "SyntaxError",
     "evalue": "non-default argument follows default argument (<ipython-input-14-47e69d503860>, line 1)",
     "output_type": "error",
     "traceback": [
      "\u001b[1;36m  File \u001b[1;32m\"<ipython-input-14-47e69d503860>\"\u001b[1;36m, line \u001b[1;32m1\u001b[0m\n\u001b[1;33m    def test(a, b=50, c):  # 기본 파라미터 뒤에 일반 파라미터가 올 수 없다.\u001b[0m\n\u001b[1;37m            ^\u001b[0m\n\u001b[1;31mSyntaxError\u001b[0m\u001b[1;31m:\u001b[0m non-default argument follows default argument\n"
     ]
    }
   ],
   "source": [
    "def test(a, b=50, c):  # 기본 파라미터 뒤에 일반 파라미터가 올 수 없다.\n",
    "    print(a, b, c)\n",
    "    \n",
    "test(10, 20, 30)    "
   ]
  },
  {
   "cell_type": "markdown",
   "metadata": {},
   "source": [
    "#### **keyword parameter**\n",
    "  - 파라미터에 이름을 명시하여 입력값을 전달할 경우 함수의 파라미터 정의 순서에 따라 호출하지 않아도 됨\n",
    "  - 파라미터에 이름을 명시하지 않는다면 함수의 파라미터 정의 순서에 따라 입력값을 전달해 줘야 함"
   ]
  },
  {
   "cell_type": "code",
   "execution_count": 15,
   "metadata": {},
   "outputs": [
    {
     "data": {
      "text/plain": [
       "60"
      ]
     },
     "execution_count": 15,
     "metadata": {},
     "output_type": "execute_result"
    }
   ],
   "source": [
    "def test(x, y, z):\n",
    "    a = x + y + z\n",
    "    return a\n",
    "\n",
    "test(x=10, z=30, y=20)  # 파라미터의 이름을 명시하여 값을 전달할 경우 함수의 파라미터 정의 순서에 따라 호출하지 않아도 됨  "
   ]
  },
  {
   "cell_type": "markdown",
   "metadata": {},
   "source": [
    "#### **return (리턴)**\n",
    " + 함수의 종료를 명시 함\n",
    "   + return 값 또는 수식 형식으로 작성되며 리턴값을 호출한 코드로 반환한다.\n",
    "   + return 만 있으면 None 반환\n",
    "   + return 이 없는 경우, 기본적으로 함수 코드 블록이 종료되면 종료로 간주. 이때도 None 반환"
   ]
  },
  {
   "cell_type": "code",
   "execution_count": 16,
   "metadata": {},
   "outputs": [
    {
     "name": "stdout",
     "output_type": "stream",
     "text": [
      "6\n"
     ]
    },
    {
     "data": {
      "text/plain": [
       "15"
      ]
     },
     "execution_count": 16,
     "metadata": {},
     "output_type": "execute_result"
    }
   ],
   "source": [
    "def t_multiply(x, y):\n",
    "    if x > 10:\n",
    "        return x * y\n",
    "    \n",
    "    print(x + y)\n",
    "    return (x + 2) * y\n",
    "    print(x + y)  # return 문 뒤에 코드는 실행이 되지 않으므로 쓸모 없는 코드 임\n",
    "\n",
    "t_multiply(1, 5)"
   ]
  },
  {
   "cell_type": "code",
   "execution_count": 17,
   "metadata": {},
   "outputs": [
    {
     "name": "stdout",
     "output_type": "stream",
     "text": [
      "None\n"
     ]
    }
   ],
   "source": [
    "def t_multiply(x, y):\n",
    "    if x > 10:\n",
    "        return\n",
    "    \n",
    "    print(x + y)\n",
    "    return (x + 2) * y\n",
    "\n",
    "c = t_multiply(12, 5)  # return 뒤에 반환 값이 없다면 None 을 반환 함\n",
    "print(c)"
   ]
  },
  {
   "cell_type": "code",
   "execution_count": 27,
   "metadata": {},
   "outputs": [
    {
     "name": "stdout",
     "output_type": "stream",
     "text": [
      "None\n"
     ]
    }
   ],
   "source": [
    "def t_multiply(x, y):\n",
    "    if x > 10:\n",
    "        return x * y\n",
    "    \n",
    "c = t_multiply(2, 5) # return 없이 함수 코드블록이 종료되면 종료로 간주. 이때 None 을 반환 함\n",
    "print(c)"
   ]
  },
  {
   "cell_type": "markdown",
   "metadata": {},
   "source": [
    "#### **multiple return (복수 값 반환)**\n",
    " + tuple 데이터 타입의 여러개의 리턴값 반환 가능"
   ]
  },
  {
   "cell_type": "code",
   "execution_count": 19,
   "metadata": {},
   "outputs": [
    {
     "name": "stdout",
     "output_type": "stream",
     "text": [
      "<class 'tuple'>\n",
      "(23, 60)\n"
     ]
    }
   ],
   "source": [
    "def add_mul(x, y):\n",
    "    s = x + y\n",
    "    m = x * y\n",
    "    \n",
    "    return s, m\n",
    "\n",
    "c = add_mul(20, 3)  # tuple 타입으로 반환\n",
    "print(type(c))\n",
    "print(c)"
   ]
  },
  {
   "cell_type": "code",
   "execution_count": 20,
   "metadata": {},
   "outputs": [
    {
     "name": "stdout",
     "output_type": "stream",
     "text": [
      "23 60\n"
     ]
    }
   ],
   "source": [
    "def add_mul(x, y):\n",
    "    s = x + y\n",
    "    m = x * y\n",
    "    \n",
    "    return s, m\n",
    "\n",
    "a, b = add_mul(20, 3)  # tuple unpacking 을 이용하여 두개의 변수(a,b)로 tuple 값을 받아 올 수 있다\n",
    "print(a, b)"
   ]
  },
  {
   "cell_type": "markdown",
   "metadata": {},
   "source": [
    "#### **variable scope (변수의 범위)** \n",
    " + 보통 프로그램 상단에 정의되어 프로그램 종료전까지 유지되는 변수를 **전역변수(global variable)** 라고 함  \n",
    " + 특정 코드 블록에서 선언된 변수를 **지역변수(local variable)** 라고 함 \n",
    " + 함수내의 지역변수는 함수의 코드 블록이 종료되면 소멸됨\n",
    " + 같은 이름의 지역변수와 전역변수가 존재할 경우, 지역변수의 우선순위가 더 높음"
   ]
  },
  {
   "cell_type": "code",
   "execution_count": 21,
   "metadata": {},
   "outputs": [
    {
     "name": "stdout",
     "output_type": "stream",
     "text": [
      "30 40\n",
      "10 30\n"
     ]
    }
   ],
   "source": [
    "num1 = 10  # 전역변수\n",
    "num2 = 30  # 전역변수\n",
    "\n",
    "def test(num1, num2):    # 지역변수\n",
    "    print(num1, num2)    # 지역변수 \n",
    "    return num1 + num2  # 지역변수\n",
    "\n",
    "test(30, 40)      # 지역변수\n",
    "print(num1, num2) # 전역변수"
   ]
  },
  {
   "cell_type": "code",
   "execution_count": 22,
   "metadata": {},
   "outputs": [
    {
     "name": "stdout",
     "output_type": "stream",
     "text": [
      "10 30\n"
     ]
    }
   ],
   "source": [
    "print(num1, num2) # 전역변수에 있는 값 출력, 전역변수로 선언되어 있는 값은 이후 어떠한 셀에서도 읽어 올 수 있음 "
   ]
  },
  {
   "cell_type": "markdown",
   "metadata": {},
   "source": [
    "#### global 명령어\n",
    "  - 특정 코드 블록에서 전역변수의 사용을 명시하고자 할 때 사용"
   ]
  },
  {
   "cell_type": "code",
   "execution_count": 26,
   "metadata": {},
   "outputs": [
    {
     "name": "stdout",
     "output_type": "stream",
     "text": [
      "2\n"
     ]
    }
   ],
   "source": [
    "a = 1  # 전역변수\n",
    "\n",
    "def add_test():\n",
    "    global a    # 변수 a 는 전역변수 임을 명시\n",
    "    a = a + 1\n",
    "\n",
    "add_test()    \n",
    "print(a)    "
   ]
  },
  {
   "cell_type": "markdown",
   "metadata": {},
   "source": [
    "#### **variable length argument (가변길이 인자)**\n",
    " - 전달되는 파라미터의 개수가 고정적이지 않은 경우 사용\n",
    " - 예)\n",
    "   - print 함수\n",
    "   - format 함수\n",
    "  \n",
    "> ***args**,  ****kwargs**\n",
    "\n",
    "> ***args**    : 파라미터에 튜플 데이터 타입으로 값을 전달\n",
    "\n",
    "> ****kwargs** : 파라미터를 딕셔너리 데이터 타입으로 값을 전달"
   ]
  },
  {
   "cell_type": "code",
   "execution_count": 28,
   "metadata": {},
   "outputs": [
    {
     "name": "stdout",
     "output_type": "stream",
     "text": [
      "\n",
      "1\n",
      "1 2\n",
      "1 2 3\n",
      "1 2 3 4\n",
      "1 2 3 4 5\n"
     ]
    }
   ],
   "source": [
    "# print 함수의 경우 고정적이지 않은 파라미더의 수를 전달할 수 있다\n",
    "\n",
    "print()\n",
    "print(1)\n",
    "print(1, 2)\n",
    "print(1, 2, 3)\n",
    "print(1, 2, 3, 4)\n",
    "print(1, 2, 3, 4, 5)"
   ]
  },
  {
   "cell_type": "code",
   "execution_count": 29,
   "metadata": {},
   "outputs": [
    {
     "name": "stdout",
     "output_type": "stream",
     "text": [
      "<class 'tuple'>\n"
     ]
    }
   ],
   "source": [
    "def test(*x):      # 가변길이의 파라미터를 전달하고자 할때 파라미터 앞에 '*'를 붙여준다.\n",
    "    print(type(x)) # '*'가 붙은 파라미터의 타입은 tuple\n",
    "\n",
    "test()"
   ]
  },
  {
   "cell_type": "code",
   "execution_count": 30,
   "metadata": {},
   "outputs": [
    {
     "name": "stdout",
     "output_type": "stream",
     "text": [
      "<class 'tuple'>\n"
     ]
    }
   ],
   "source": [
    "def test(*x):      # 가변길이의 파라미터를 전달하고자 할때 파라미터 앞에 '*'를 붙여준다.\n",
    "    print(type(x)) # '*'가 붙은 파라미터의 타입은 tuple\n",
    "\n",
    "test(10)"
   ]
  },
  {
   "cell_type": "code",
   "execution_count": 31,
   "metadata": {},
   "outputs": [
    {
     "name": "stdout",
     "output_type": "stream",
     "text": [
      "<class 'tuple'>\n"
     ]
    }
   ],
   "source": [
    "def test(*x):      # 고정적이지 않은 파라미터는 앞에 '*' 를 붙여 준다\n",
    "    print(type(x)) # '*'가 붙은 파라미터의 타입은 tuple\n",
    "\n",
    "test(10, 20, 30)"
   ]
  },
  {
   "cell_type": "code",
   "execution_count": 32,
   "metadata": {},
   "outputs": [
    {
     "name": "stdout",
     "output_type": "stream",
     "text": [
      "100\n",
      "200\n",
      "300\n",
      "400\n",
      "500\n",
      "600\n"
     ]
    }
   ],
   "source": [
    "def test(*args):  # arguments , 가변길이의 파라미터를 정의할 때 파이썬 관례적으로 args라는 이름으로 정의함.\n",
    "    for item in args:  # x 의 타입이 튜플임으로 튜플을 순회하여 값을 출력할 수 있음\n",
    "        print(item)\n",
    "\n",
    "test(100, 200, 300, 400, 500, 600)"
   ]
  },
  {
   "cell_type": "markdown",
   "metadata": {},
   "source": [
    "#### **keyword parameter**\n",
    " - \\**가 붙은 경우에는 키워드 파라미터로 인식하며 딕셔너리 데이터 타입으로 값을 전달해 줘야 함 \n",
    " - 파라미터에 이름을 명시하여 입력값을 전달 "
   ]
  },
  {
   "cell_type": "code",
   "execution_count": 33,
   "metadata": {},
   "outputs": [
    {
     "name": "stdout",
     "output_type": "stream",
     "text": [
      "<class 'dict'>\n"
     ]
    }
   ],
   "source": [
    "def test2(**x):    # '**'가 붙은 파라미터의 타입은 dict, 가변길이의 키워드 파라미터를 사용하고자 하는 경우에 사용 함\n",
    "    print(type(x))    \n",
    "\n",
    "test2(a=1, b=2, c=3, d=4, name='Tom')  # test2는 유효한 호출입니다"
   ]
  },
  {
   "cell_type": "code",
   "execution_count": 34,
   "metadata": {},
   "outputs": [
    {
     "name": "stdout",
     "output_type": "stream",
     "text": [
      "key: a ,value: 1\n",
      "key: b ,value: 2\n",
      "key: c ,value: 3\n",
      "key: d ,value: 4\n",
      "key: name ,value: Tony\n",
      "key: age ,value: 50\n"
     ]
    }
   ],
   "source": [
    "def test2(**x):    # '**'가 붙은 파라미터의 타입은 dict, 가변길이의 키워드 파라미터를 사용하고자 하는 경우에 사용 함\n",
    "    for key, value in x.items():\n",
    "        print('key:', key, ',value:', value)\n",
    "\n",
    "test2(a=1, b=2, c=3, d=4, name='Tony', age=50)"
   ]
  },
  {
   "cell_type": "code",
   "execution_count": 35,
   "metadata": {},
   "outputs": [
    {
     "name": "stdout",
     "output_type": "stream",
     "text": [
      "key: a ,value: 1\n"
     ]
    }
   ],
   "source": [
    "def test2(**kwargs):    # keyword arguments, 파이썬 관례적으로 kwargs라는 이름으로 정의함.\n",
    "    for key, value in kwargs.items():\n",
    "        print('key:', key, ',value:', value)\n",
    "\n",
    "test2(a=1)  "
   ]
  },
  {
   "cell_type": "markdown",
   "metadata": {},
   "source": [
    "#### **문자열 format 함수**"
   ]
  },
  {
   "cell_type": "code",
   "execution_count": 37,
   "metadata": {},
   "outputs": [
    {
     "name": "stdout",
     "output_type": "stream",
     "text": [
      "오늘 온도: 20도, 강수확률: 80%, 내일온도: 27도\n"
     ]
    }
   ],
   "source": [
    "a = '오늘 온도: {}도, 강수확률: {}%, 내일온도: {}도'.format(20, 80, 27)\n",
    "print(a)"
   ]
  },
  {
   "cell_type": "code",
   "execution_count": 38,
   "metadata": {},
   "outputs": [
    {
     "name": "stdout",
     "output_type": "stream",
     "text": [
      "오늘 온도: 20도, 강수확률: 80%, 내일온도: 27도\n"
     ]
    }
   ],
   "source": [
    "a = '오늘 온도: {today_temp}도, 강수확률: {today_prob}%, 내일온도: {tomorrow_temp}도'.format(today_temp=20, today_prob=80, tomorrow_temp=27)\n",
    "print(a)"
   ]
  }
 ],
 "metadata": {
  "kernelspec": {
   "display_name": "Python 3",
   "language": "python",
   "name": "python3"
  },
  "language_info": {
   "codemirror_mode": {
    "name": "ipython",
    "version": 3
   },
   "file_extension": ".py",
   "mimetype": "text/x-python",
   "name": "python",
   "nbconvert_exporter": "python",
   "pygments_lexer": "ipython3",
   "version": "3.7.7"
  }
 },
 "nbformat": 4,
 "nbformat_minor": 1
}
