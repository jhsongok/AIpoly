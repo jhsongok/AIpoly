{
 "cells": [
  {
   "cell_type": "markdown",
   "metadata": {},
   "source": [
    "# 문자열"
   ]
  },
  {
   "cell_type": "markdown",
   "metadata": {},
   "source": [
    "#### 문자열 생성 및 표현\n",
    "\n",
    " - 문자열은 '(작은따옴표) 혹은 \"(큰따옴표) 사이에 문자를 넣어서 생성\n",
    " - 문자열 자체에 '(작은따옴표), \"(큰따옴표) 가 있는 경우에는 각각 그 반대의 기호로 생성\n",
    " - 한줄 문자열 표현 : ' ', \" \"\n",
    " - 여러 줄에 걸친 문자열 표현 : ''' ''', \"\"\" \"\"\""
   ]
  },
  {
   "cell_type": "code",
   "execution_count": 1,
   "metadata": {},
   "outputs": [
    {
     "name": "stdout",
     "output_type": "stream",
     "text": [
      "Hello World Hello World Hello World Hello World\n"
     ]
    }
   ],
   "source": [
    "a = 'Hello World'\n",
    "b = \"Hello World\"\n",
    "c = '''Hello World'''\n",
    "d = \"\"\"Hello World\"\"\"\n",
    "\n",
    "print(a, b, c, d)"
   ]
  },
  {
   "cell_type": "code",
   "execution_count": 3,
   "metadata": {},
   "outputs": [
    {
     "name": "stdout",
     "output_type": "stream",
     "text": [
      "\"Hello\" World\n",
      "Hello' World\n"
     ]
    }
   ],
   "source": [
    "a = '\"Hello\" World'\n",
    "b = \"Hello' World\"\n",
    "\n",
    "print(a)\n",
    "print(b)"
   ]
  },
  {
   "cell_type": "code",
   "execution_count": 4,
   "metadata": {},
   "outputs": [
    {
     "name": "stdout",
     "output_type": "stream",
     "text": [
      "Hello\n",
      "\n",
      "World\n",
      "Hello \n",
      "World\n"
     ]
    }
   ],
   "source": [
    "c = '''Hello\n",
    "\n",
    "World'''\n",
    "d = \"\"\"Hello \n",
    "World\"\"\"\n",
    "\n",
    "print(c)\n",
    "print(d)"
   ]
  },
  {
   "cell_type": "markdown",
   "metadata": {},
   "source": [
    "#### escape string(이스케이프 문자)\n",
    "\n",
    "  - 문자열 내의 일부 문자의 의미를 달리하여 특정한 효과를 주는 것\n",
    "  - \\n : new line   \\t : tab 등"
   ]
  },
  {
   "cell_type": "code",
   "execution_count": 5,
   "metadata": {},
   "outputs": [
    {
     "name": "stdout",
     "output_type": "stream",
     "text": [
      "Hello World\n",
      "\n",
      "\n",
      "Ha\thahaha\n"
     ]
    }
   ],
   "source": [
    "print('Hello World\\n\\n')\n",
    "print('Ha\\thahaha')"
   ]
  },
  {
   "cell_type": "markdown",
   "metadata": {},
   "source": [
    "#### indexing & slicing(문자열 인덱싱과 슬라이싱)\n",
    "\n",
    "  - 문자열의 각 문자는 순서가 있음\n",
    "  - 이때 각 문자열의 순서를 **인덱스** 라고 함\n",
    "  - 첫번째 문자부터 마지막까지 차례대로의 순서를 가짐\n",
    "  - 첫번째 시작문자의 순서는 **0**으로 시작(1이 아님)"
   ]
  },
  {
   "cell_type": "code",
   "execution_count": 6,
   "metadata": {},
   "outputs": [
    {
     "name": "stdout",
     "output_type": "stream",
     "text": [
      "d\n"
     ]
    }
   ],
   "source": [
    "a = 'Hello World'\n",
    "print(a[10])"
   ]
  },
  {
   "cell_type": "markdown",
   "metadata": {},
   "source": [
    "#### -1 인덱스\n",
    "  - 다른 언어와 달리, python은 음수 인덱스를 지원\n",
    "  - -1은 가장 마지막 인덱스를, -2는 마지막에서 두번째 인덱스를 의미"
   ]
  },
  {
   "cell_type": "code",
   "execution_count": 7,
   "metadata": {},
   "outputs": [
    {
     "name": "stdout",
     "output_type": "stream",
     "text": [
      "H\n",
      "d\n",
      "d\n",
      "H\n"
     ]
    }
   ],
   "source": [
    "print(a[0])\n",
    "print(a[10])\n",
    "\n",
    "print(a[-1])\n",
    "print(a[-11])"
   ]
  },
  {
   "cell_type": "markdown",
   "metadata": {},
   "source": [
    "#### 인덱스의 범위\n",
    " - 인덱스는 [0, 문자열의 길이] 의 범위만 유효\n",
    " - 음수 인덱스의 경우는 [-문자열의 길이, -1] 의 범위만 유효\n",
    " - 범위를 넘어갈 경우 에러 발생"
   ]
  },
  {
   "cell_type": "code",
   "execution_count": 8,
   "metadata": {},
   "outputs": [
    {
     "name": "stdout",
     "output_type": "stream",
     "text": [
      "H\n"
     ]
    }
   ],
   "source": [
    "print(a[-11])"
   ]
  },
  {
   "cell_type": "markdown",
   "metadata": {},
   "source": [
    "#### 문자열 slicing\n",
    "  - 인덱스가 하나의 문자만 추출한다면\n",
    "  - slicing은 부분 문자열을 추출한다고 볼 수 있음\n",
    "  - [시작:끝]와 같이 명시하여 [시작:끝]에 해당하는 부분 문자열을 추출\n",
    "    (명시된 끝 인덱스의 문자는 추출에서 제외)\n",
    "  - 시작, 끝 인덱스가 생략이 되어 있다면, 0부터 혹은 끝까지로 간주"
   ]
  },
  {
   "cell_type": "code",
   "execution_count": 9,
   "metadata": {},
   "outputs": [
    {
     "name": "stdout",
     "output_type": "stream",
     "text": [
      "Hell\n",
      "Hello World\n",
      "H\n",
      "Hello\n",
      "lo World\n",
      "Hello World\n"
     ]
    }
   ],
   "source": [
    "a = 'Hello World'\n",
    "print(a[0:4])\n",
    "\n",
    "print(a[0:11])\n",
    "print(a[0:1])\n",
    "\n",
    "print(a[:5])\n",
    "print(a[3:])\n",
    "print(a[:])"
   ]
  },
  {
   "cell_type": "markdown",
   "metadata": {},
   "source": [
    "#### 문자열 관련 함수\n",
    "  - 문자열은 여러 가지 기능 제공을 위한 자체 함수를 내장"
   ]
  },
  {
   "cell_type": "markdown",
   "metadata": {},
   "source": [
    "- **len**\n",
    "  - 문자열 길이 계산"
   ]
  },
  {
   "cell_type": "code",
   "execution_count": 16,
   "metadata": {},
   "outputs": [
    {
     "data": {
      "text/plain": [
       "11"
      ]
     },
     "execution_count": 16,
     "metadata": {},
     "output_type": "execute_result"
    }
   ],
   "source": [
    "a = 'Hello World'\n",
    "len(a)"
   ]
  },
  {
   "cell_type": "markdown",
   "metadata": {},
   "source": [
    "- **upper / lower**\n",
    "  - 대문자, 소문자로 변환"
   ]
  },
  {
   "cell_type": "code",
   "execution_count": 45,
   "metadata": {},
   "outputs": [
    {
     "data": {
      "text/plain": [
       "'hello world'"
      ]
     },
     "execution_count": 45,
     "metadata": {},
     "output_type": "execute_result"
    }
   ],
   "source": [
    "a = 'Hello World'\n",
    "a.lower()"
   ]
  },
  {
   "cell_type": "markdown",
   "metadata": {},
   "source": [
    "  - **replace**\n",
    "    - 문자열 내의 특정 문자를 치환"
   ]
  },
  {
   "cell_type": "code",
   "execution_count": 11,
   "metadata": {},
   "outputs": [
    {
     "data": {
      "text/plain": [
       "'jello World'"
      ]
     },
     "execution_count": 11,
     "metadata": {},
     "output_type": "execute_result"
    }
   ],
   "source": [
    "a = 'hello World'\n",
    "a.replace('h','j')"
   ]
  },
  {
   "cell_type": "markdown",
   "metadata": {},
   "source": [
    " - **split**\n",
    "   - 특정한 문자를 구분자로 해서 문자열을 나눈다.\n",
    "   - 이렇게 나눈 값들은 리스트에 하나씩 들어가게 된다."
   ]
  },
  {
   "cell_type": "code",
   "execution_count": 46,
   "metadata": {},
   "outputs": [
    {
     "data": {
      "text/plain": [
       "['hello', 'how', 'are', 'you']"
      ]
     },
     "execution_count": 46,
     "metadata": {},
     "output_type": "execute_result"
    }
   ],
   "source": [
    "a = 'hello how are you'\n",
    "a.split()"
   ]
  },
  {
   "cell_type": "markdown",
   "metadata": {},
   "source": [
    "#### 문자열 포멧팅\n",
    " - 문자열 안에 어떠한 값을 삽입하는 방법 \n",
    " - **문자열 포멧 코드**\n",
    "   - %s : 문자열(String)\n",
    "   - %c : 문자1개(Character)\n",
    "   - %d : 정수(Integer)\n",
    "   - %f : 실수(Floating-point)\n",
    "   - %o : 8진수\n",
    "   - %x : 16진수\n",
    "   - %% : Literal %(문자 '%' 자체) "
   ]
  },
  {
   "cell_type": "code",
   "execution_count": 18,
   "metadata": {},
   "outputs": [
    {
     "name": "stdout",
     "output_type": "stream",
     "text": [
      "I eat 3 bread.\n"
     ]
    }
   ],
   "source": [
    "print(\"I eat %d bread.\" % 3)"
   ]
  },
  {
   "cell_type": "code",
   "execution_count": 21,
   "metadata": {},
   "outputs": [
    {
     "name": "stdout",
     "output_type": "stream",
     "text": [
      "I eat three bread.\n"
     ]
    }
   ],
   "source": [
    "print(\"I eat %s bread.\" % \"three\")"
   ]
  },
  {
   "cell_type": "code",
   "execution_count": 22,
   "metadata": {},
   "outputs": [
    {
     "name": "stdout",
     "output_type": "stream",
     "text": [
      "I eat 5 bread.\n"
     ]
    }
   ],
   "source": [
    "num = 5\n",
    "print(\"I eat %d bread.\" % num)"
   ]
  },
  {
   "cell_type": "code",
   "execution_count": 23,
   "metadata": {},
   "outputs": [
    {
     "name": "stdout",
     "output_type": "stream",
     "text": [
      "I eat 6 bread for two days\n"
     ]
    }
   ],
   "source": [
    "num = 6\n",
    "day = \"two\"\n",
    "print(\"I eat %d bread for %s days\" % (num, day))"
   ]
  },
  {
   "cell_type": "markdown",
   "metadata": {},
   "source": [
    "- 포멧 코드와 숫자를 함께 사용하는 경우\n",
    "  - 정렬과 공백 \n",
    "    - 숫자는 대입되는 값을 총 길이 만큼 표현하고 나머지는 공백\n",
    "    - 숫자 앞에 '+' 은 오른쪽 정렬, '-' 는 왼쪽 정렬\n",
    "  - 소숫점 표현 : 소숫점(.) 뒤에 숫자는 소숫점 이하 몇째 자리까지 표현할 것인지 정의 "
   ]
  },
  {
   "cell_type": "code",
   "execution_count": 24,
   "metadata": {},
   "outputs": [
    {
     "name": "stdout",
     "output_type": "stream",
     "text": [
      "     hello\n"
     ]
    }
   ],
   "source": [
    "print(\"%10s\" % \"hello\")"
   ]
  },
  {
   "cell_type": "code",
   "execution_count": 26,
   "metadata": {},
   "outputs": [
    {
     "name": "stdout",
     "output_type": "stream",
     "text": [
      "hello     David\n"
     ]
    }
   ],
   "source": [
    "print(\"%-10sDavid\" % \"hello\")"
   ]
  },
  {
   "cell_type": "code",
   "execution_count": 28,
   "metadata": {},
   "outputs": [
    {
     "name": "stdout",
     "output_type": "stream",
     "text": [
      "3.14\n"
     ]
    }
   ],
   "source": [
    "print(\"%0.2f\" % 3.1415927)"
   ]
  },
  {
   "cell_type": "code",
   "execution_count": 29,
   "metadata": {},
   "outputs": [
    {
     "name": "stdout",
     "output_type": "stream",
     "text": [
      "      3.14\n"
     ]
    }
   ],
   "source": [
    "print(\"%10.2f\" % 3.1415927)"
   ]
  },
  {
   "cell_type": "markdown",
   "metadata": {},
   "source": [
    "- **format** 함수를 사용한 포멧팅"
   ]
  },
  {
   "cell_type": "code",
   "execution_count": 35,
   "metadata": {},
   "outputs": [
    {
     "name": "stdout",
     "output_type": "stream",
     "text": [
      "I eat 3 bread\n"
     ]
    }
   ],
   "source": [
    "print(\"I eat {} bread\".format(3))"
   ]
  },
  {
   "cell_type": "code",
   "execution_count": 37,
   "metadata": {},
   "outputs": [
    {
     "name": "stdout",
     "output_type": "stream",
     "text": [
      "I eat three bread\n"
     ]
    }
   ],
   "source": [
    "print(\"I eat {} bread\".format(\"three\"))"
   ]
  },
  {
   "cell_type": "code",
   "execution_count": 38,
   "metadata": {},
   "outputs": [
    {
     "name": "stdout",
     "output_type": "stream",
     "text": [
      "I eat 3 bread\n"
     ]
    }
   ],
   "source": [
    "num = 3\n",
    "print(\"I eat {} bread\".format(num))"
   ]
  },
  {
   "cell_type": "code",
   "execution_count": 40,
   "metadata": {},
   "outputs": [
    {
     "name": "stdout",
     "output_type": "stream",
     "text": [
      "I eat 6 bread for two days\n"
     ]
    }
   ],
   "source": [
    "num = 6\n",
    "day =\"two\"\n",
    "print(\"I eat {} bread for {} days\".format(num, day))"
   ]
  },
  {
   "cell_type": "code",
   "execution_count": 41,
   "metadata": {},
   "outputs": [
    {
     "name": "stdout",
     "output_type": "stream",
     "text": [
      "I eat 6 bread for two days\n"
     ]
    }
   ],
   "source": [
    "print(\"I eat {num} bread for {day} days\".format(num=6, day=\"two\"))"
   ]
  },
  {
   "cell_type": "code",
   "execution_count": 43,
   "metadata": {},
   "outputs": [
    {
     "name": "stdout",
     "output_type": "stream",
     "text": [
      "I eat 6 bread for two days\n"
     ]
    }
   ],
   "source": [
    "num = 6\n",
    "print(\"I eat {} bread for {day} days\".format(num, day=\"two\"))"
   ]
  }
 ],
 "metadata": {
  "kernelspec": {
   "display_name": "Python 3",
   "language": "python",
   "name": "python3"
  },
  "language_info": {
   "codemirror_mode": {
    "name": "ipython",
    "version": 3
   },
   "file_extension": ".py",
   "mimetype": "text/x-python",
   "name": "python",
   "nbconvert_exporter": "python",
   "pygments_lexer": "ipython3",
   "version": "3.7.7"
  }
 },
 "nbformat": 4,
 "nbformat_minor": 2
}
