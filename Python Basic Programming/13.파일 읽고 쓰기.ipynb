{
 "cells": [
  {
   "cell_type": "markdown",
   "metadata": {},
   "source": [
    "# 파일 읽기/쓰기"
   ]
  },
  {
   "cell_type": "markdown",
   "metadata": {},
   "source": [
    "#### open 함수 이용\n",
    " - open 함수는 파일이름, 파일열기모드 를 입력받아 파일 객체를 반환한다.\n",
    " - 파일 객체 = open(파일이름, 파일열기모드)\n",
    " - 파일열기모드\n",
    "    - r : 읽기모드(파일을 읽기만 할 때 사용)\n",
    "    - w : 쓰기모드(파일에 내용을 쓸 때 사용)\n",
    "        + 해당 파일이 존재하지 않으면 새로 생성함\n",
    "        + 해당 파일이 존재할 경우 기존 파일 내용은 모두 삭제되고 새롭게 작성 됨\n",
    "    - a : 추가모드(기존 파일 내용은 그대로 유지하고 파일의 마지막에 새로운 내용을 추가할 때 사용)\n",
    " - 열었던 파일 객체 닫기\n",
    "    - 파일 객체.close()\n",
    "    - 쓰기/추가 모드로 열었던 파일을 닫지 않고 다시 사용하려고 하면 오류 발생\n",
    " - with 문과 함께 사용하면 with 코드블록을 벗어나는 순간 열려있던 파일 객체를 자동으로 닫아주기 때문에 편리함 "
   ]
  },
  {
   "cell_type": "markdown",
   "metadata": {},
   "source": [
    "#### 파일 생성하기"
   ]
  },
  {
   "cell_type": "code",
   "execution_count": 18,
   "metadata": {},
   "outputs": [],
   "source": [
    "f = open(\"new_file.txt\", 'w')\n",
    "f.close()"
   ]
  },
  {
   "cell_type": "markdown",
   "metadata": {},
   "source": [
    "#### 파일 쓰기"
   ]
  },
  {
   "cell_type": "code",
   "execution_count": 19,
   "metadata": {},
   "outputs": [],
   "source": [
    "f = open(\"new_file.txt\", 'w')\n",
    "\n",
    "for i in range(1,6):\n",
    "    line = \"%d 번째 라인입니다.\\n\" % i\n",
    "    f.write(line)\n",
    "\n",
    "f.close()"
   ]
  },
  {
   "cell_type": "markdown",
   "metadata": {},
   "source": [
    "#### 파일 읽기\n",
    " - readline 함수 : 파일을 라인 단위로 한줄씩 읽어 온다.\n",
    " - readlines 함수 : 파일을 라인 단위로 모두 읽어서 각 라인을 원소로 리스트로 돌려준다.\n",
    " - read 함수 : 파일 내용 전체를 문자열로 돌려준다. 통으로 읽어 옴."
   ]
  },
  {
   "cell_type": "code",
   "execution_count": 20,
   "metadata": {},
   "outputs": [
    {
     "name": "stdout",
     "output_type": "stream",
     "text": [
      "1 번째 라인입니다.\n",
      "\n",
      "2 번째 라인입니다.\n",
      "\n",
      "3 번째 라인입니다.\n",
      "\n",
      "4 번째 라인입니다.\n",
      "\n",
      "5 번째 라인입니다.\n",
      "\n"
     ]
    }
   ],
   "source": [
    "f = open(\"new_file.txt\", 'r')\n",
    "\n",
    "while True:\n",
    "    line = f.readline()\n",
    "    if not line: break\n",
    "    print(line)    \n",
    "\n",
    "f.close()"
   ]
  },
  {
   "cell_type": "code",
   "execution_count": 21,
   "metadata": {},
   "outputs": [
    {
     "name": "stdout",
     "output_type": "stream",
     "text": [
      "1 번째 라인입니다.\n",
      "\n",
      "2 번째 라인입니다.\n",
      "\n",
      "3 번째 라인입니다.\n",
      "\n",
      "4 번째 라인입니다.\n",
      "\n",
      "5 번째 라인입니다.\n",
      "\n"
     ]
    }
   ],
   "source": [
    "f = open(\"new_file.txt\", 'r')\n",
    "\n",
    "lines = f.readlines()\n",
    "for line in lines:\n",
    "    print(line)    \n",
    "\n",
    "f.close()"
   ]
  },
  {
   "cell_type": "code",
   "execution_count": 22,
   "metadata": {},
   "outputs": [
    {
     "name": "stdout",
     "output_type": "stream",
     "text": [
      "1 번째 라인입니다.\n",
      "2 번째 라인입니다.\n",
      "3 번째 라인입니다.\n",
      "4 번째 라인입니다.\n",
      "5 번째 라인입니다.\n",
      "\n"
     ]
    }
   ],
   "source": [
    "f = open(\"new_file.txt\", 'r')\n",
    "\n",
    "file = f.read()\n",
    "print(file)    \n",
    "\n",
    "f.close()"
   ]
  },
  {
   "cell_type": "markdown",
   "metadata": {},
   "source": [
    "#### 파일에 내용 추가"
   ]
  },
  {
   "cell_type": "code",
   "execution_count": 23,
   "metadata": {},
   "outputs": [
    {
     "name": "stdout",
     "output_type": "stream",
     "text": [
      "1 번째 라인입니다.\n",
      "2 번째 라인입니다.\n",
      "3 번째 라인입니다.\n",
      "4 번째 라인입니다.\n",
      "5 번째 라인입니다.\n",
      "6 번째 라인입니다.\n",
      "7 번째 라인입니다.\n",
      "8 번째 라인입니다.\n",
      "9 번째 라인입니다.\n",
      "10 번째 라인입니다.\n",
      "\n"
     ]
    }
   ],
   "source": [
    "f = open(\"new_file.txt\", 'a')\n",
    "\n",
    "for i in range(6,11):\n",
    "    line = \"%d 번째 라인입니다.\\n\" % i\n",
    "    f.write(line)  \n",
    "\n",
    "f.close()\n",
    "\n",
    "f = open(\"new_file.txt\", 'r')\n",
    "\n",
    "file = f.read()\n",
    "print(file)    \n",
    "\n",
    "f.close()"
   ]
  },
  {
   "cell_type": "markdown",
   "metadata": {},
   "source": [
    "#### with 문으로 파일 열고/닫기 자동화하기\n",
    " - with문을 사용하면 with 코드블록을 벗어나는 순간 열려 있던 파일객체를 자동으로 닫아줍니다."
   ]
  },
  {
   "cell_type": "code",
   "execution_count": 24,
   "metadata": {},
   "outputs": [],
   "source": [
    "with open(\"new_file.txt\", 'w') as f:\n",
    "    f.write(\"I like python\")    "
   ]
  }
 ],
 "metadata": {
  "kernelspec": {
   "display_name": "Python 3",
   "language": "python",
   "name": "python3"
  },
  "language_info": {
   "codemirror_mode": {
    "name": "ipython",
    "version": 3
   },
   "file_extension": ".py",
   "mimetype": "text/x-python",
   "name": "python",
   "nbconvert_exporter": "python",
   "pygments_lexer": "ipython3",
   "version": "3.7.7"
  }
 },
 "nbformat": 4,
 "nbformat_minor": 4
}
